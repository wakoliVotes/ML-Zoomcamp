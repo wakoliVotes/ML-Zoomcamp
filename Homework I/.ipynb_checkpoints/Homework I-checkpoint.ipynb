{
 "cells": [
  {
   "cell_type": "code",
   "execution_count": 5,
   "id": "0f0e3926",
   "metadata": {},
   "outputs": [],
   "source": [
    "import numpy as np\n",
    "import pandas as pd\n",
    "import matplotlib.pyplot as plt\n",
    "import seaborn as sb\n",
    "import requests\n",
    "import io\n",
    "\n",
    "%matplotlib inline"
   ]
  },
  {
   "cell_type": "markdown",
   "id": "6f978e18",
   "metadata": {},
   "source": [
    "#### Question 1\n",
    "What's the version of NumPy that you installed?"
   ]
  },
  {
   "cell_type": "code",
   "execution_count": 6,
   "id": "19b76878",
   "metadata": {},
   "outputs": [
    {
     "data": {
      "text/plain": [
       "'1.20.3'"
      ]
     },
     "execution_count": 6,
     "metadata": {},
     "output_type": "execute_result"
    }
   ],
   "source": [
    "np.__version__"
   ]
  },
  {
   "cell_type": "markdown",
   "id": "1122a48b",
   "metadata": {},
   "source": [
    "#### Getting the data"
   ]
  },
  {
   "cell_type": "code",
   "execution_count": 30,
   "id": "15e64844",
   "metadata": {},
   "outputs": [],
   "source": [
    "# Using requests library\n",
    "url = 'https://raw.githubusercontent.com/alexeygrigorev/mlbookcamp-code/master/chapter-02-car-price/data.csv'\n",
    "response = requests.get(url).content"
   ]
  },
  {
   "cell_type": "code",
   "execution_count": 71,
   "id": "11db06c3",
   "metadata": {},
   "outputs": [],
   "source": [
    "# Reading the dataset\n",
    "df=  pd.read_csv(io.StringIO(response.decode('utf-8')))"
   ]
  },
  {
   "cell_type": "code",
   "execution_count": 72,
   "id": "7c2220a6",
   "metadata": {},
   "outputs": [
    {
     "data": {
      "text/html": [
       "<div>\n",
       "<style scoped>\n",
       "    .dataframe tbody tr th:only-of-type {\n",
       "        vertical-align: middle;\n",
       "    }\n",
       "\n",
       "    .dataframe tbody tr th {\n",
       "        vertical-align: top;\n",
       "    }\n",
       "\n",
       "    .dataframe thead th {\n",
       "        text-align: right;\n",
       "    }\n",
       "</style>\n",
       "<table border=\"1\" class=\"dataframe\">\n",
       "  <thead>\n",
       "    <tr style=\"text-align: right;\">\n",
       "      <th></th>\n",
       "      <th>Make</th>\n",
       "      <th>Model</th>\n",
       "      <th>Year</th>\n",
       "      <th>Engine Fuel Type</th>\n",
       "      <th>Engine HP</th>\n",
       "      <th>Engine Cylinders</th>\n",
       "      <th>Transmission Type</th>\n",
       "      <th>Driven_Wheels</th>\n",
       "      <th>Number of Doors</th>\n",
       "      <th>Market Category</th>\n",
       "      <th>Vehicle Size</th>\n",
       "      <th>Vehicle Style</th>\n",
       "      <th>highway MPG</th>\n",
       "      <th>city mpg</th>\n",
       "      <th>Popularity</th>\n",
       "      <th>MSRP</th>\n",
       "    </tr>\n",
       "  </thead>\n",
       "  <tbody>\n",
       "    <tr>\n",
       "      <th>0</th>\n",
       "      <td>BMW</td>\n",
       "      <td>1 Series M</td>\n",
       "      <td>2011</td>\n",
       "      <td>premium unleaded (required)</td>\n",
       "      <td>335.0</td>\n",
       "      <td>6.0</td>\n",
       "      <td>MANUAL</td>\n",
       "      <td>rear wheel drive</td>\n",
       "      <td>2.0</td>\n",
       "      <td>Factory Tuner,Luxury,High-Performance</td>\n",
       "      <td>Compact</td>\n",
       "      <td>Coupe</td>\n",
       "      <td>26</td>\n",
       "      <td>19</td>\n",
       "      <td>3916</td>\n",
       "      <td>46135</td>\n",
       "    </tr>\n",
       "    <tr>\n",
       "      <th>1</th>\n",
       "      <td>BMW</td>\n",
       "      <td>1 Series</td>\n",
       "      <td>2011</td>\n",
       "      <td>premium unleaded (required)</td>\n",
       "      <td>300.0</td>\n",
       "      <td>6.0</td>\n",
       "      <td>MANUAL</td>\n",
       "      <td>rear wheel drive</td>\n",
       "      <td>2.0</td>\n",
       "      <td>Luxury,Performance</td>\n",
       "      <td>Compact</td>\n",
       "      <td>Convertible</td>\n",
       "      <td>28</td>\n",
       "      <td>19</td>\n",
       "      <td>3916</td>\n",
       "      <td>40650</td>\n",
       "    </tr>\n",
       "    <tr>\n",
       "      <th>2</th>\n",
       "      <td>BMW</td>\n",
       "      <td>1 Series</td>\n",
       "      <td>2011</td>\n",
       "      <td>premium unleaded (required)</td>\n",
       "      <td>300.0</td>\n",
       "      <td>6.0</td>\n",
       "      <td>MANUAL</td>\n",
       "      <td>rear wheel drive</td>\n",
       "      <td>2.0</td>\n",
       "      <td>Luxury,High-Performance</td>\n",
       "      <td>Compact</td>\n",
       "      <td>Coupe</td>\n",
       "      <td>28</td>\n",
       "      <td>20</td>\n",
       "      <td>3916</td>\n",
       "      <td>36350</td>\n",
       "    </tr>\n",
       "    <tr>\n",
       "      <th>3</th>\n",
       "      <td>BMW</td>\n",
       "      <td>1 Series</td>\n",
       "      <td>2011</td>\n",
       "      <td>premium unleaded (required)</td>\n",
       "      <td>230.0</td>\n",
       "      <td>6.0</td>\n",
       "      <td>MANUAL</td>\n",
       "      <td>rear wheel drive</td>\n",
       "      <td>2.0</td>\n",
       "      <td>Luxury,Performance</td>\n",
       "      <td>Compact</td>\n",
       "      <td>Coupe</td>\n",
       "      <td>28</td>\n",
       "      <td>18</td>\n",
       "      <td>3916</td>\n",
       "      <td>29450</td>\n",
       "    </tr>\n",
       "    <tr>\n",
       "      <th>4</th>\n",
       "      <td>BMW</td>\n",
       "      <td>1 Series</td>\n",
       "      <td>2011</td>\n",
       "      <td>premium unleaded (required)</td>\n",
       "      <td>230.0</td>\n",
       "      <td>6.0</td>\n",
       "      <td>MANUAL</td>\n",
       "      <td>rear wheel drive</td>\n",
       "      <td>2.0</td>\n",
       "      <td>Luxury</td>\n",
       "      <td>Compact</td>\n",
       "      <td>Convertible</td>\n",
       "      <td>28</td>\n",
       "      <td>18</td>\n",
       "      <td>3916</td>\n",
       "      <td>34500</td>\n",
       "    </tr>\n",
       "  </tbody>\n",
       "</table>\n",
       "</div>"
      ],
      "text/plain": [
       "  Make       Model  Year             Engine Fuel Type  Engine HP  \\\n",
       "0  BMW  1 Series M  2011  premium unleaded (required)      335.0   \n",
       "1  BMW    1 Series  2011  premium unleaded (required)      300.0   \n",
       "2  BMW    1 Series  2011  premium unleaded (required)      300.0   \n",
       "3  BMW    1 Series  2011  premium unleaded (required)      230.0   \n",
       "4  BMW    1 Series  2011  premium unleaded (required)      230.0   \n",
       "\n",
       "   Engine Cylinders Transmission Type     Driven_Wheels  Number of Doors  \\\n",
       "0               6.0            MANUAL  rear wheel drive              2.0   \n",
       "1               6.0            MANUAL  rear wheel drive              2.0   \n",
       "2               6.0            MANUAL  rear wheel drive              2.0   \n",
       "3               6.0            MANUAL  rear wheel drive              2.0   \n",
       "4               6.0            MANUAL  rear wheel drive              2.0   \n",
       "\n",
       "                         Market Category Vehicle Size Vehicle Style  \\\n",
       "0  Factory Tuner,Luxury,High-Performance      Compact         Coupe   \n",
       "1                     Luxury,Performance      Compact   Convertible   \n",
       "2                Luxury,High-Performance      Compact         Coupe   \n",
       "3                     Luxury,Performance      Compact         Coupe   \n",
       "4                                 Luxury      Compact   Convertible   \n",
       "\n",
       "   highway MPG  city mpg  Popularity   MSRP  \n",
       "0           26        19        3916  46135  \n",
       "1           28        19        3916  40650  \n",
       "2           28        20        3916  36350  \n",
       "3           28        18        3916  29450  \n",
       "4           28        18        3916  34500  "
      ]
     },
     "execution_count": 72,
     "metadata": {},
     "output_type": "execute_result"
    }
   ],
   "source": [
    "# An overview of the dataset\n",
    "df.head()"
   ]
  },
  {
   "cell_type": "markdown",
   "id": "99b76c9a",
   "metadata": {},
   "source": [
    "#### Question 2\n",
    "How many records are in the dataset?\n",
    "\n",
    "Here you need to specify the number of rows"
   ]
  },
  {
   "cell_type": "code",
   "execution_count": 29,
   "id": "40c37b9e",
   "metadata": {
    "scrolled": true
   },
   "outputs": [
    {
     "data": {
      "text/html": [
       "<div>\n",
       "<style scoped>\n",
       "    .dataframe tbody tr th:only-of-type {\n",
       "        vertical-align: middle;\n",
       "    }\n",
       "\n",
       "    .dataframe tbody tr th {\n",
       "        vertical-align: top;\n",
       "    }\n",
       "\n",
       "    .dataframe thead th {\n",
       "        text-align: right;\n",
       "    }\n",
       "</style>\n",
       "<table border=\"1\" class=\"dataframe\">\n",
       "  <thead>\n",
       "    <tr style=\"text-align: right;\">\n",
       "      <th></th>\n",
       "      <th>Year</th>\n",
       "      <th>Engine HP</th>\n",
       "      <th>Engine Cylinders</th>\n",
       "      <th>Number of Doors</th>\n",
       "      <th>highway MPG</th>\n",
       "      <th>city mpg</th>\n",
       "      <th>Popularity</th>\n",
       "      <th>MSRP</th>\n",
       "    </tr>\n",
       "  </thead>\n",
       "  <tbody>\n",
       "    <tr>\n",
       "      <th>count</th>\n",
       "      <td>11914.000000</td>\n",
       "      <td>11845.00000</td>\n",
       "      <td>11884.000000</td>\n",
       "      <td>11908.000000</td>\n",
       "      <td>11914.000000</td>\n",
       "      <td>11914.000000</td>\n",
       "      <td>11914.000000</td>\n",
       "      <td>1.191400e+04</td>\n",
       "    </tr>\n",
       "    <tr>\n",
       "      <th>mean</th>\n",
       "      <td>2010.384338</td>\n",
       "      <td>249.38607</td>\n",
       "      <td>5.628829</td>\n",
       "      <td>3.436093</td>\n",
       "      <td>26.637485</td>\n",
       "      <td>19.733255</td>\n",
       "      <td>1554.911197</td>\n",
       "      <td>4.059474e+04</td>\n",
       "    </tr>\n",
       "    <tr>\n",
       "      <th>std</th>\n",
       "      <td>7.579740</td>\n",
       "      <td>109.19187</td>\n",
       "      <td>1.780559</td>\n",
       "      <td>0.881315</td>\n",
       "      <td>8.863001</td>\n",
       "      <td>8.987798</td>\n",
       "      <td>1441.855347</td>\n",
       "      <td>6.010910e+04</td>\n",
       "    </tr>\n",
       "    <tr>\n",
       "      <th>min</th>\n",
       "      <td>1990.000000</td>\n",
       "      <td>55.00000</td>\n",
       "      <td>0.000000</td>\n",
       "      <td>2.000000</td>\n",
       "      <td>12.000000</td>\n",
       "      <td>7.000000</td>\n",
       "      <td>2.000000</td>\n",
       "      <td>2.000000e+03</td>\n",
       "    </tr>\n",
       "    <tr>\n",
       "      <th>25%</th>\n",
       "      <td>2007.000000</td>\n",
       "      <td>170.00000</td>\n",
       "      <td>4.000000</td>\n",
       "      <td>2.000000</td>\n",
       "      <td>22.000000</td>\n",
       "      <td>16.000000</td>\n",
       "      <td>549.000000</td>\n",
       "      <td>2.100000e+04</td>\n",
       "    </tr>\n",
       "    <tr>\n",
       "      <th>50%</th>\n",
       "      <td>2015.000000</td>\n",
       "      <td>227.00000</td>\n",
       "      <td>6.000000</td>\n",
       "      <td>4.000000</td>\n",
       "      <td>26.000000</td>\n",
       "      <td>18.000000</td>\n",
       "      <td>1385.000000</td>\n",
       "      <td>2.999500e+04</td>\n",
       "    </tr>\n",
       "    <tr>\n",
       "      <th>75%</th>\n",
       "      <td>2016.000000</td>\n",
       "      <td>300.00000</td>\n",
       "      <td>6.000000</td>\n",
       "      <td>4.000000</td>\n",
       "      <td>30.000000</td>\n",
       "      <td>22.000000</td>\n",
       "      <td>2009.000000</td>\n",
       "      <td>4.223125e+04</td>\n",
       "    </tr>\n",
       "    <tr>\n",
       "      <th>max</th>\n",
       "      <td>2017.000000</td>\n",
       "      <td>1001.00000</td>\n",
       "      <td>16.000000</td>\n",
       "      <td>4.000000</td>\n",
       "      <td>354.000000</td>\n",
       "      <td>137.000000</td>\n",
       "      <td>5657.000000</td>\n",
       "      <td>2.065902e+06</td>\n",
       "    </tr>\n",
       "  </tbody>\n",
       "</table>\n",
       "</div>"
      ],
      "text/plain": [
       "               Year    Engine HP  Engine Cylinders  Number of Doors  \\\n",
       "count  11914.000000  11845.00000      11884.000000     11908.000000   \n",
       "mean    2010.384338    249.38607          5.628829         3.436093   \n",
       "std        7.579740    109.19187          1.780559         0.881315   \n",
       "min     1990.000000     55.00000          0.000000         2.000000   \n",
       "25%     2007.000000    170.00000          4.000000         2.000000   \n",
       "50%     2015.000000    227.00000          6.000000         4.000000   \n",
       "75%     2016.000000    300.00000          6.000000         4.000000   \n",
       "max     2017.000000   1001.00000         16.000000         4.000000   \n",
       "\n",
       "        highway MPG      city mpg    Popularity          MSRP  \n",
       "count  11914.000000  11914.000000  11914.000000  1.191400e+04  \n",
       "mean      26.637485     19.733255   1554.911197  4.059474e+04  \n",
       "std        8.863001      8.987798   1441.855347  6.010910e+04  \n",
       "min       12.000000      7.000000      2.000000  2.000000e+03  \n",
       "25%       22.000000     16.000000    549.000000  2.100000e+04  \n",
       "50%       26.000000     18.000000   1385.000000  2.999500e+04  \n",
       "75%       30.000000     22.000000   2009.000000  4.223125e+04  \n",
       "max      354.000000    137.000000   5657.000000  2.065902e+06  "
      ]
     },
     "execution_count": 29,
     "metadata": {},
     "output_type": "execute_result"
    }
   ],
   "source": [
    "df.describe()"
   ]
  },
  {
   "cell_type": "code",
   "execution_count": 12,
   "id": "73625d49",
   "metadata": {
    "scrolled": true
   },
   "outputs": [
    {
     "name": "stdout",
     "output_type": "stream",
     "text": [
      "<class 'pandas.core.frame.DataFrame'>\n",
      "RangeIndex: 11914 entries, 0 to 11913\n",
      "Data columns (total 16 columns):\n",
      " #   Column             Non-Null Count  Dtype  \n",
      "---  ------             --------------  -----  \n",
      " 0   Make               11914 non-null  object \n",
      " 1   Model              11914 non-null  object \n",
      " 2   Year               11914 non-null  int64  \n",
      " 3   Engine Fuel Type   11911 non-null  object \n",
      " 4   Engine HP          11845 non-null  float64\n",
      " 5   Engine Cylinders   11884 non-null  float64\n",
      " 6   Transmission Type  11914 non-null  object \n",
      " 7   Driven_Wheels      11914 non-null  object \n",
      " 8   Number of Doors    11908 non-null  float64\n",
      " 9   Market Category    8172 non-null   object \n",
      " 10  Vehicle Size       11914 non-null  object \n",
      " 11  Vehicle Style      11914 non-null  object \n",
      " 12  highway MPG        11914 non-null  int64  \n",
      " 13  city mpg           11914 non-null  int64  \n",
      " 14  Popularity         11914 non-null  int64  \n",
      " 15  MSRP               11914 non-null  int64  \n",
      "dtypes: float64(3), int64(5), object(8)\n",
      "memory usage: 1.5+ MB\n"
     ]
    }
   ],
   "source": [
    "df.info()"
   ]
  },
  {
   "cell_type": "markdown",
   "id": "fc2a2345",
   "metadata": {},
   "source": [
    " - From above, RangeIndex gives **11914**"
   ]
  },
  {
   "cell_type": "markdown",
   "id": "7d441efe",
   "metadata": {},
   "source": [
    "### Question 3\n",
    "Who are the most frequent car manufacturers (top-3) according to the dataset?"
   ]
  },
  {
   "cell_type": "code",
   "execution_count": 13,
   "id": "dbb7c8a7",
   "metadata": {
    "scrolled": true
   },
   "outputs": [
    {
     "data": {
      "text/plain": [
       "Chevrolet        1123\n",
       "Ford              881\n",
       "Volkswagen        809\n",
       "Toyota            746\n",
       "Dodge             626\n",
       "Nissan            558\n",
       "GMC               515\n",
       "Honda             449\n",
       "Mazda             423\n",
       "Cadillac          397\n",
       "Mercedes-Benz     353\n",
       "Suzuki            351\n",
       "BMW               334\n",
       "Infiniti          330\n",
       "Audi              328\n",
       "Hyundai           303\n",
       "Volvo             281\n",
       "Subaru            256\n",
       "Acura             252\n",
       "Kia               231\n",
       "Mitsubishi        213\n",
       "Lexus             202\n",
       "Buick             196\n",
       "Chrysler          187\n",
       "Pontiac           186\n",
       "Lincoln           164\n",
       "Oldsmobile        150\n",
       "Land Rover        143\n",
       "Porsche           136\n",
       "Saab              111\n",
       "Aston Martin       93\n",
       "Plymouth           82\n",
       "Bentley            74\n",
       "Ferrari            69\n",
       "FIAT               62\n",
       "Scion              60\n",
       "Maserati           58\n",
       "Lamborghini        52\n",
       "Rolls-Royce        31\n",
       "Lotus              29\n",
       "Tesla              18\n",
       "HUMMER             17\n",
       "Maybach            16\n",
       "Alfa Romeo          5\n",
       "McLaren             5\n",
       "Spyker              3\n",
       "Genesis             3\n",
       "Bugatti             3\n",
       "Name: Make, dtype: int64"
      ]
     },
     "execution_count": 13,
     "metadata": {},
     "output_type": "execute_result"
    }
   ],
   "source": [
    "df.Make.value_counts()"
   ]
  },
  {
   "cell_type": "markdown",
   "id": "9d9a9820",
   "metadata": {},
   "source": [
    "- Chevrolet (1123), Ford (881) and Volkswagen (809) are top 3 based on the value_counts"
   ]
  },
  {
   "cell_type": "markdown",
   "id": "eff20ecc",
   "metadata": {},
   "source": [
    "#### Question 4\n",
    "What's the number of unique Audi car models in the dataset?"
   ]
  },
  {
   "cell_type": "code",
   "execution_count": 14,
   "id": "462418d1",
   "metadata": {},
   "outputs": [
    {
     "data": {
      "text/plain": [
       "34"
      ]
     },
     "execution_count": 14,
     "metadata": {},
     "output_type": "execute_result"
    }
   ],
   "source": [
    "# Getting unique items\n",
    "df.loc[df['Make'] == 'Audi']['Model'].nunique()"
   ]
  },
  {
   "cell_type": "markdown",
   "id": "b27dec14",
   "metadata": {
    "scrolled": true
   },
   "source": [
    "- 34 Audi models are unique"
   ]
  },
  {
   "cell_type": "markdown",
   "id": "8fec9ec4",
   "metadata": {},
   "source": [
    "#### Question 5\n",
    "How many columns in the dataset have missing values?"
   ]
  },
  {
   "cell_type": "code",
   "execution_count": 15,
   "id": "4d9f902d",
   "metadata": {
    "scrolled": true
   },
   "outputs": [
    {
     "data": {
      "text/plain": [
       "Make                    0\n",
       "Model                   0\n",
       "Year                    0\n",
       "Engine Fuel Type        3\n",
       "Engine HP              69\n",
       "Engine Cylinders       30\n",
       "Transmission Type       0\n",
       "Driven_Wheels           0\n",
       "Number of Doors         6\n",
       "Market Category      3742\n",
       "Vehicle Size            0\n",
       "Vehicle Style           0\n",
       "highway MPG             0\n",
       "city mpg                0\n",
       "Popularity              0\n",
       "MSRP                    0\n",
       "dtype: int64"
      ]
     },
     "execution_count": 15,
     "metadata": {},
     "output_type": "execute_result"
    }
   ],
   "source": [
    "df.isnull().sum()"
   ]
  },
  {
   "cell_type": "markdown",
   "id": "ea0231d9",
   "metadata": {},
   "source": [
    "- Answer is  **5**.\n",
    "- From above, by manually counting, we have 5 columns have integers other than zero (0), i.e., Engine Fuel Type 3, Engine HP 69, Engine Cylinders 30, Number of Doors 6 and Market Category 3742 have missing values.\n",
    "- Hence, answer is **5**"
   ]
  },
  {
   "cell_type": "markdown",
   "id": "e1b5c15e",
   "metadata": {},
   "source": [
    "#### Question 6: Does the median value change after filling missing values?\n",
    "1. Find the median value of \"Engine Cylinders\" column in the dataset.\n",
    "2. Next, calculate the most frequent value of the same \"Engine Cylinders\".\n",
    "3. Use the fillna method to fill the missing values in \"Engine Cylinders\" with the most frequent value from the previous step.\n",
    "4. Now, calculate the median value of \"Engine Cylinders\" once again.\n",
    "\n",
    "- Has it changed?\n"
   ]
  },
  {
   "cell_type": "code",
   "execution_count": 50,
   "id": "00987d2f",
   "metadata": {},
   "outputs": [
    {
     "data": {
      "text/plain": [
       "6.0"
      ]
     },
     "execution_count": 50,
     "metadata": {},
     "output_type": "execute_result"
    }
   ],
   "source": [
    "median_engine_cylinders = df['Engine Cylinders'].median()\n",
    "median_engine_cylinders"
   ]
  },
  {
   "cell_type": "code",
   "execution_count": 51,
   "id": "512ee293",
   "metadata": {},
   "outputs": [
    {
     "data": {
      "text/plain": [
       "0    4.0\n",
       "dtype: float64"
      ]
     },
     "execution_count": 51,
     "metadata": {},
     "output_type": "execute_result"
    }
   ],
   "source": [
    "mode_engine_cylinders = df['Engine Cylinders'].mode()\n",
    "mode_engine_cylinders"
   ]
  },
  {
   "cell_type": "code",
   "execution_count": 73,
   "id": "221aabd3",
   "metadata": {},
   "outputs": [],
   "source": [
    "# Copyin the dataset\n",
    "clean_cylinders = df['Engine Cylinders']"
   ]
  },
  {
   "cell_type": "code",
   "execution_count": 90,
   "id": "016a473c",
   "metadata": {},
   "outputs": [
    {
     "data": {
      "text/plain": [
       "30"
      ]
     },
     "execution_count": 90,
     "metadata": {},
     "output_type": "execute_result"
    }
   ],
   "source": [
    "# Checking empty rows in the column Engine Cylinders\n",
    "clean_cylinders.isna().sum()"
   ]
  },
  {
   "cell_type": "code",
   "execution_count": 97,
   "id": "f5e67abe",
   "metadata": {},
   "outputs": [],
   "source": [
    "clean_cylinders.fillna(mode_engine_cylinders, inplace=True)"
   ]
  },
  {
   "cell_type": "code",
   "execution_count": 98,
   "id": "09fcb8d5",
   "metadata": {},
   "outputs": [
    {
     "data": {
      "text/plain": [
       "6.0"
      ]
     },
     "execution_count": 98,
     "metadata": {},
     "output_type": "execute_result"
    }
   ],
   "source": [
    "clean_cylinders.median()"
   ]
  },
  {
   "cell_type": "markdown",
   "id": "7bfdf814",
   "metadata": {},
   "source": [
    "- No change, the median is the same, i.e.,  **6.0**"
   ]
  },
  {
   "cell_type": "markdown",
   "id": "349e147b",
   "metadata": {},
   "source": [
    "#### Questions 7: Value of the first element of w*\n",
    "\n",
    "- Select all the \"Lotus\" cars from the dataset.\n",
    "- Select only columns \"Engine HP\", \"Engine Cylinders\".\n",
    "- Now drop all duplicated rows using drop_duplicates method (you should get a dataframe with 9 rows).\n",
    "- Get the underlying NumPy array. Let's call it X.\n",
    "- Compute matrix-matrix multiplication between the transpose of X and X. To get the transpose, use X.T. Let's call the result XTX.\n",
    "- Invert XTX.\n",
    "- Create an array y with values [1100, 800, 750, 850, 1300, 1000, 1000, 1300, 800].\n",
    "- Multiply the inverse of XTX with the transpose of X, and then multiply the result by y. Call the result w.\n",
    "- What's the value of the first element of w?\n"
   ]
  },
  {
   "cell_type": "code",
   "execution_count": 100,
   "id": "7ffbdc42",
   "metadata": {
    "scrolled": false
   },
   "outputs": [
    {
     "data": {
      "text/html": [
       "<div>\n",
       "<style scoped>\n",
       "    .dataframe tbody tr th:only-of-type {\n",
       "        vertical-align: middle;\n",
       "    }\n",
       "\n",
       "    .dataframe tbody tr th {\n",
       "        vertical-align: top;\n",
       "    }\n",
       "\n",
       "    .dataframe thead th {\n",
       "        text-align: right;\n",
       "    }\n",
       "</style>\n",
       "<table border=\"1\" class=\"dataframe\">\n",
       "  <thead>\n",
       "    <tr style=\"text-align: right;\">\n",
       "      <th></th>\n",
       "      <th>Make</th>\n",
       "      <th>Model</th>\n",
       "      <th>Year</th>\n",
       "      <th>Engine Fuel Type</th>\n",
       "      <th>Engine HP</th>\n",
       "      <th>Engine Cylinders</th>\n",
       "      <th>Transmission Type</th>\n",
       "      <th>Driven_Wheels</th>\n",
       "      <th>Number of Doors</th>\n",
       "      <th>Market Category</th>\n",
       "      <th>Vehicle Size</th>\n",
       "      <th>Vehicle Style</th>\n",
       "      <th>highway MPG</th>\n",
       "      <th>city mpg</th>\n",
       "      <th>Popularity</th>\n",
       "      <th>MSRP</th>\n",
       "    </tr>\n",
       "  </thead>\n",
       "  <tbody>\n",
       "    <tr>\n",
       "      <th>3916</th>\n",
       "      <td>Lotus</td>\n",
       "      <td>Elise</td>\n",
       "      <td>2010</td>\n",
       "      <td>premium unleaded (required)</td>\n",
       "      <td>218.0</td>\n",
       "      <td>4.0</td>\n",
       "      <td>MANUAL</td>\n",
       "      <td>rear wheel drive</td>\n",
       "      <td>2.0</td>\n",
       "      <td>Exotic,High-Performance</td>\n",
       "      <td>Compact</td>\n",
       "      <td>Convertible</td>\n",
       "      <td>26</td>\n",
       "      <td>20</td>\n",
       "      <td>613</td>\n",
       "      <td>54990</td>\n",
       "    </tr>\n",
       "    <tr>\n",
       "      <th>4293</th>\n",
       "      <td>Lotus</td>\n",
       "      <td>Exige</td>\n",
       "      <td>2009</td>\n",
       "      <td>premium unleaded (recommended)</td>\n",
       "      <td>240.0</td>\n",
       "      <td>4.0</td>\n",
       "      <td>MANUAL</td>\n",
       "      <td>rear wheel drive</td>\n",
       "      <td>2.0</td>\n",
       "      <td>Exotic,High-Performance</td>\n",
       "      <td>Compact</td>\n",
       "      <td>Coupe</td>\n",
       "      <td>26</td>\n",
       "      <td>20</td>\n",
       "      <td>613</td>\n",
       "      <td>65690</td>\n",
       "    </tr>\n",
       "    <tr>\n",
       "      <th>4294</th>\n",
       "      <td>Lotus</td>\n",
       "      <td>Exige</td>\n",
       "      <td>2010</td>\n",
       "      <td>premium unleaded (recommended)</td>\n",
       "      <td>240.0</td>\n",
       "      <td>4.0</td>\n",
       "      <td>MANUAL</td>\n",
       "      <td>rear wheel drive</td>\n",
       "      <td>2.0</td>\n",
       "      <td>Exotic,High-Performance</td>\n",
       "      <td>Compact</td>\n",
       "      <td>Coupe</td>\n",
       "      <td>26</td>\n",
       "      <td>20</td>\n",
       "      <td>613</td>\n",
       "      <td>65690</td>\n",
       "    </tr>\n",
       "    <tr>\n",
       "      <th>4260</th>\n",
       "      <td>Lotus</td>\n",
       "      <td>Evora</td>\n",
       "      <td>2011</td>\n",
       "      <td>premium unleaded (required)</td>\n",
       "      <td>276.0</td>\n",
       "      <td>6.0</td>\n",
       "      <td>MANUAL</td>\n",
       "      <td>rear wheel drive</td>\n",
       "      <td>2.0</td>\n",
       "      <td>Exotic,High-Performance</td>\n",
       "      <td>Compact</td>\n",
       "      <td>Coupe</td>\n",
       "      <td>26</td>\n",
       "      <td>18</td>\n",
       "      <td>613</td>\n",
       "      <td>65500</td>\n",
       "    </tr>\n",
       "    <tr>\n",
       "      <th>4267</th>\n",
       "      <td>Lotus</td>\n",
       "      <td>Evora</td>\n",
       "      <td>2014</td>\n",
       "      <td>premium unleaded (required)</td>\n",
       "      <td>345.0</td>\n",
       "      <td>6.0</td>\n",
       "      <td>MANUAL</td>\n",
       "      <td>rear wheel drive</td>\n",
       "      <td>2.0</td>\n",
       "      <td>Exotic,High-Performance</td>\n",
       "      <td>Compact</td>\n",
       "      <td>Coupe</td>\n",
       "      <td>26</td>\n",
       "      <td>17</td>\n",
       "      <td>613</td>\n",
       "      <td>79980</td>\n",
       "    </tr>\n",
       "  </tbody>\n",
       "</table>\n",
       "</div>"
      ],
      "text/plain": [
       "       Make  Model  Year                Engine Fuel Type  Engine HP  \\\n",
       "3916  Lotus  Elise  2010     premium unleaded (required)      218.0   \n",
       "4293  Lotus  Exige  2009  premium unleaded (recommended)      240.0   \n",
       "4294  Lotus  Exige  2010  premium unleaded (recommended)      240.0   \n",
       "4260  Lotus  Evora  2011     premium unleaded (required)      276.0   \n",
       "4267  Lotus  Evora  2014     premium unleaded (required)      345.0   \n",
       "\n",
       "      Engine Cylinders Transmission Type     Driven_Wheels  Number of Doors  \\\n",
       "3916               4.0            MANUAL  rear wheel drive              2.0   \n",
       "4293               4.0            MANUAL  rear wheel drive              2.0   \n",
       "4294               4.0            MANUAL  rear wheel drive              2.0   \n",
       "4260               6.0            MANUAL  rear wheel drive              2.0   \n",
       "4267               6.0            MANUAL  rear wheel drive              2.0   \n",
       "\n",
       "              Market Category Vehicle Size Vehicle Style  highway MPG  \\\n",
       "3916  Exotic,High-Performance      Compact   Convertible           26   \n",
       "4293  Exotic,High-Performance      Compact         Coupe           26   \n",
       "4294  Exotic,High-Performance      Compact         Coupe           26   \n",
       "4260  Exotic,High-Performance      Compact         Coupe           26   \n",
       "4267  Exotic,High-Performance      Compact         Coupe           26   \n",
       "\n",
       "      city mpg  Popularity   MSRP  \n",
       "3916        20         613  54990  \n",
       "4293        20         613  65690  \n",
       "4294        20         613  65690  \n",
       "4260        18         613  65500  \n",
       "4267        17         613  79980  "
      ]
     },
     "execution_count": 100,
     "metadata": {},
     "output_type": "execute_result"
    }
   ],
   "source": [
    "df_lotus = df[df['Make'] == 'Lotus']\n",
    "df_lotus.sample(5)"
   ]
  },
  {
   "cell_type": "code",
   "execution_count": 101,
   "id": "cbdca2f1",
   "metadata": {
    "scrolled": true
   },
   "outputs": [
    {
     "data": {
      "text/html": [
       "<div>\n",
       "<style scoped>\n",
       "    .dataframe tbody tr th:only-of-type {\n",
       "        vertical-align: middle;\n",
       "    }\n",
       "\n",
       "    .dataframe tbody tr th {\n",
       "        vertical-align: top;\n",
       "    }\n",
       "\n",
       "    .dataframe thead th {\n",
       "        text-align: right;\n",
       "    }\n",
       "</style>\n",
       "<table border=\"1\" class=\"dataframe\">\n",
       "  <thead>\n",
       "    <tr style=\"text-align: right;\">\n",
       "      <th></th>\n",
       "      <th>Engine HP</th>\n",
       "      <th>Engine Cylinders</th>\n",
       "    </tr>\n",
       "  </thead>\n",
       "  <tbody>\n",
       "    <tr>\n",
       "      <th>3912</th>\n",
       "      <td>189.0</td>\n",
       "      <td>4.0</td>\n",
       "    </tr>\n",
       "    <tr>\n",
       "      <th>3913</th>\n",
       "      <td>218.0</td>\n",
       "      <td>4.0</td>\n",
       "    </tr>\n",
       "    <tr>\n",
       "      <th>3914</th>\n",
       "      <td>189.0</td>\n",
       "      <td>4.0</td>\n",
       "    </tr>\n",
       "    <tr>\n",
       "      <th>3915</th>\n",
       "      <td>189.0</td>\n",
       "      <td>4.0</td>\n",
       "    </tr>\n",
       "    <tr>\n",
       "      <th>3916</th>\n",
       "      <td>218.0</td>\n",
       "      <td>4.0</td>\n",
       "    </tr>\n",
       "  </tbody>\n",
       "</table>\n",
       "</div>"
      ],
      "text/plain": [
       "      Engine HP  Engine Cylinders\n",
       "3912      189.0               4.0\n",
       "3913      218.0               4.0\n",
       "3914      189.0               4.0\n",
       "3915      189.0               4.0\n",
       "3916      218.0               4.0"
      ]
     },
     "execution_count": 101,
     "metadata": {},
     "output_type": "execute_result"
    }
   ],
   "source": [
    "lotus_df_columns = df_lotus[['Engine HP', 'Engine Cylinders']]\n",
    "lotus_df_columns.head()"
   ]
  },
  {
   "cell_type": "code",
   "execution_count": 102,
   "id": "1fddc30c",
   "metadata": {},
   "outputs": [
    {
     "data": {
      "text/plain": [
       "20"
      ]
     },
     "execution_count": 102,
     "metadata": {},
     "output_type": "execute_result"
    }
   ],
   "source": [
    "lotus_df_columns.duplicated().sum()"
   ]
  },
  {
   "cell_type": "code",
   "execution_count": 103,
   "id": "4caf9c1c",
   "metadata": {
    "scrolled": true
   },
   "outputs": [
    {
     "name": "stderr",
     "output_type": "stream",
     "text": [
      "C:\\Users\\User\\Anaconda3\\lib\\site-packages\\pandas\\util\\_decorators.py:311: SettingWithCopyWarning: \n",
      "A value is trying to be set on a copy of a slice from a DataFrame\n",
      "\n",
      "See the caveats in the documentation: https://pandas.pydata.org/pandas-docs/stable/user_guide/indexing.html#returning-a-view-versus-a-copy\n",
      "  return func(*args, **kwargs)\n"
     ]
    }
   ],
   "source": [
    "# Replacing with inplace=True\n",
    "lotus_df_columns.drop_duplicates(inplace=True)"
   ]
  },
  {
   "cell_type": "code",
   "execution_count": 104,
   "id": "8685414d",
   "metadata": {
    "scrolled": false
   },
   "outputs": [
    {
     "data": {
      "text/plain": [
       "0"
      ]
     },
     "execution_count": 104,
     "metadata": {},
     "output_type": "execute_result"
    }
   ],
   "source": [
    "# Checking to confirm is changes are effective\n",
    "lotus_df_columns.duplicated().sum()"
   ]
  },
  {
   "cell_type": "code",
   "execution_count": 105,
   "id": "3d6a67ac",
   "metadata": {
    "scrolled": true
   },
   "outputs": [
    {
     "name": "stdout",
     "output_type": "stream",
     "text": [
      "<class 'pandas.core.frame.DataFrame'>\n",
      "Int64Index: 9 entries, 3912 to 4293\n",
      "Data columns (total 2 columns):\n",
      " #   Column            Non-Null Count  Dtype  \n",
      "---  ------            --------------  -----  \n",
      " 0   Engine HP         9 non-null      float64\n",
      " 1   Engine Cylinders  9 non-null      float64\n",
      "dtypes: float64(2)\n",
      "memory usage: 216.0 bytes\n"
     ]
    }
   ],
   "source": [
    "# Checking rows, should give 9 based on instructions\n",
    "lotus_df_columns.info()"
   ]
  },
  {
   "cell_type": "code",
   "execution_count": 106,
   "id": "14c56fc6",
   "metadata": {
    "scrolled": true
   },
   "outputs": [],
   "source": [
    "# Get the underlying NumPy array. Let's call it X.\n",
    "X = lotus_df_columns.to_numpy()"
   ]
  },
  {
   "cell_type": "code",
   "execution_count": 107,
   "id": "1312a83a",
   "metadata": {},
   "outputs": [
    {
     "data": {
      "text/plain": [
       "array([[189.,   4.],\n",
       "       [218.,   4.],\n",
       "       [217.,   4.],\n",
       "       [350.,   8.],\n",
       "       [400.,   6.],\n",
       "       [276.,   6.],\n",
       "       [345.,   6.],\n",
       "       [257.,   4.],\n",
       "       [240.,   4.]])"
      ]
     },
     "execution_count": 107,
     "metadata": {},
     "output_type": "execute_result"
    }
   ],
   "source": [
    "# Displaying X\n",
    "X"
   ]
  },
  {
   "cell_type": "code",
   "execution_count": 108,
   "id": "1c39898f",
   "metadata": {},
   "outputs": [
    {
     "data": {
      "text/plain": [
       "array([[189., 218., 217., 350., 400., 276., 345., 257., 240.],\n",
       "       [  4.,   4.,   4.,   8.,   6.,   6.,   6.,   4.,   4.]])"
      ]
     },
     "execution_count": 108,
     "metadata": {},
     "output_type": "execute_result"
    }
   ],
   "source": [
    "# Compute matrix-matrix multiplication between the transpose of X and X.\n",
    "# To get the transpose, use X.T. Let's call the result XTX.\n",
    "XT = X.T\n",
    "XT\n"
   ]
  },
  {
   "cell_type": "code",
   "execution_count": 109,
   "id": "c12fc975",
   "metadata": {},
   "outputs": [
    {
     "data": {
      "text/plain": [
       "array([[7.31684e+05, 1.34100e+04],\n",
       "       [1.34100e+04, 2.52000e+02]])"
      ]
     },
     "execution_count": 109,
     "metadata": {},
     "output_type": "execute_result"
    }
   ],
   "source": [
    "XTX = np.dot(XT, X)\n",
    "XTX"
   ]
  },
  {
   "cell_type": "code",
   "execution_count": 115,
   "id": "22ebb656",
   "metadata": {},
   "outputs": [
    {
     "data": {
      "text/plain": [
       "array([[ 5.53084235e-05, -2.94319825e-03],\n",
       "       [-2.94319825e-03,  1.60588447e-01]])"
      ]
     },
     "execution_count": 115,
     "metadata": {},
     "output_type": "execute_result"
    }
   ],
   "source": [
    "# Inverting XTX\n",
    "XTX_Inverse = np.linalg.inv(XTX)\n",
    "XTX_Inverse"
   ]
  },
  {
   "cell_type": "code",
   "execution_count": 116,
   "id": "ab78afee",
   "metadata": {},
   "outputs": [],
   "source": [
    "y = np.array([1100, 800, 750, 850, 1300, 1000, 1000, 1300, 800])"
   ]
  },
  {
   "cell_type": "code",
   "execution_count": 117,
   "id": "5e877e41",
   "metadata": {},
   "outputs": [],
   "source": [
    "w = np.dot(np.dot(XTX_Inverse, XT), y)"
   ]
  },
  {
   "cell_type": "code",
   "execution_count": 118,
   "id": "18ee4709",
   "metadata": {},
   "outputs": [
    {
     "data": {
      "text/plain": [
       "array([  4.59494481, -63.56432501])"
      ]
     },
     "execution_count": 118,
     "metadata": {},
     "output_type": "execute_result"
    }
   ],
   "source": [
    "# Displaying w\n",
    "w"
   ]
  },
  {
   "cell_type": "markdown",
   "id": "2655992e",
   "metadata": {},
   "source": [
    "- Hence, from above, the first value in **w** is **4.59494481**"
   ]
  },
  {
   "cell_type": "markdown",
   "id": "d8064e26",
   "metadata": {},
   "source": [
    "#### Saving Dataframe to csv for future use"
   ]
  },
  {
   "cell_type": "code",
   "execution_count": 114,
   "id": "2f5ddcbe",
   "metadata": {},
   "outputs": [],
   "source": [
    "df.to_csv('data_data.csv')"
   ]
  }
 ],
 "metadata": {
  "kernelspec": {
   "display_name": "Python 3 (ipykernel)",
   "language": "python",
   "name": "python3"
  },
  "language_info": {
   "codemirror_mode": {
    "name": "ipython",
    "version": 3
   },
   "file_extension": ".py",
   "mimetype": "text/x-python",
   "name": "python",
   "nbconvert_exporter": "python",
   "pygments_lexer": "ipython3",
   "version": "3.9.7"
  },
  "vscode": {
   "interpreter": {
    "hash": "afb734500600fd355917ca529030176ea0ca205570884b88f2f6f7d791fd3fbe"
   }
  }
 },
 "nbformat": 4,
 "nbformat_minor": 5
}
